{
 "cells": [
  {
   "cell_type": "code",
   "execution_count": null,
   "metadata": {},
   "outputs": [],
   "source": [
    "import cv2\n",
    "import matplotlib.pyplot as plt\n",
    "import numpy as np"
   ]
  },
  {
   "cell_type": "code",
   "execution_count": null,
   "metadata": {},
   "outputs": [],
   "source": [
    "first_angle = cv2.imread('../drawings/10031-plan-0.jpg')\n",
    "firstgray = cv2.cvtColor(first_angle, cv2.COLOR_BGR2GRAY)\n",
    "outlines = first_angle.copy()"
   ]
  },
  {
   "cell_type": "code",
   "execution_count": null,
   "metadata": {},
   "outputs": [],
   "source": [
    "img = cv2.fastNlMeansDenoising(firstgray,None, 1, 7, 21)\n",
    "\n",
    "clahe = cv2.createCLAHE(clipLimit=1, tileGridSize=(10,10))\n",
    "cl1 = clahe.apply(img)\n",
    "\n",
    "thresh, prof_thresh = cv2.threshold(cl1, 250, 255, cv2.THRESH_BINARY_INV)\n",
    "\n",
    "kernel = cv2.getStructuringElement(cv2.MORPH_ELLIPSE,(8,8))\n",
    "dilated = cv2.dilate(prof_thresh, kernel, iterations=2)\n",
    "\n",
    "contours, hierarchy = cv2.findContours(dilated, cv2.RETR_EXTERNAL, cv2.CHAIN_APPROX_SIMPLE)\n",
    "\n",
    "contour_list = []\n",
    "for contour in contours:\n",
    "    approx = cv2.approxPolyDP(contour,0.01*cv2.arcLength(contour,True),True)\n",
    "    area = cv2.contourArea(contour)\n",
    "    if ((len(approx) > 4) & (area > 60) ):\n",
    "        contour_list.append(contour)\n",
    "\n",
    "outlines_copy = outlines.copy()\n",
    "        \n",
    "cv2.drawContours(outlines_copy, contour_list, -1, (0,0,0), thickness=cv2.FILLED)\n",
    "\n",
    "plt.imshow(outlines_copy)\n",
    "plt.rcParams[\"figure.figsize\"] = (10,10)\n",
    "plt.axis('off')\n",
    "\n",
    "cv2.imwrite(\"../figure/10031-filled-contours.jpg\", outlines_copy)"
   ]
  },
  {
   "cell_type": "code",
   "execution_count": null,
   "metadata": {},
   "outputs": [],
   "source": [
    "maxcont = max(contours, key = cv2.contourArea)\n",
    "x,y,w,h = cv2.boundingRect(maxcont)\n",
    "\n",
    "other_cont = []\n",
    "\n",
    "for cont in contours:\n",
    "    if cv2.contourArea(cont) < cv2.contourArea(maxcont):\n",
    "        other_cont.append(cont)\n",
    "        \n",
    "large_cont = []\n",
    "\n",
    "for cont in contours:\n",
    "    if cv2.contourArea(cont) >= cv2.contourArea(maxcont):\n",
    "        large_cont.append(cont)\n",
    "        \n",
    "outlines4 = first_angle.copy()\n",
    "\n",
    "cv2.drawContours(outlines4, large_cont, -1, (0,0,0), thickness=cv2.FILLED)\n",
    "\n",
    "plt.imshow(outlines4, cmap=\"gray\")\n",
    "plt.rcParams[\"figure.figsize\"] = (10,10)\n",
    "plt.axis('off')\n",
    "\n",
    "cv2.imwrite(\"../figure/10031-largest-contour.jpg\", outlines4)"
   ]
  },
  {
   "cell_type": "code",
   "execution_count": null,
   "metadata": {},
   "outputs": [],
   "source": [
    "thresh, outlines_thresh = cv2.threshold(outlines4, 250, 255, cv2.THRESH_BINARY_INV)\n",
    "\n",
    "plt.imshow(outlines_thresh, cmap=\"gray\")\n",
    "plt.rcParams[\"figure.figsize\"] = (10,10)\n",
    "plt.axis('off')"
   ]
  },
  {
   "cell_type": "markdown",
   "metadata": {},
   "source": [
    "removing contours from image: https://www.pyimagesearch.com/2015/02/09/removing-contours-image-using-python-opencv/\n",
    "<br/>\n",
    "eliminating small contours: https://answers.opencv.org/question/223216/python-eliminate-small-contours/ <br/>\n",
    "eliminating small contours attached to large one: https://stackoverflow.com/questions/57561113/how-to-remove-small-contours-attached-to-another-big-one <br/>"
   ]
  },
  {
   "cell_type": "code",
   "execution_count": null,
   "metadata": {},
   "outputs": [],
   "source": [
    "closing = cv2.morphologyEx(outlines_thresh, cv2.MORPH_OPEN, kernel, iterations=10)\n",
    "\n",
    "#cv2.imwrite(\"test.jpg\", closing)\n",
    "\n",
    "silhouette = cv2.bitwise_not(closing)\n",
    "\n",
    "plt.imshow(silhouette, cmap=\"gray\")\n",
    "plt.rcParams[\"figure.figsize\"] = (10,10)\n",
    "plt.axis('off')\n",
    "\n",
    "cv2.imwrite(\"../figure/10031-final-fill.jpg\", silhouette)"
   ]
  },
  {
   "cell_type": "code",
   "execution_count": null,
   "metadata": {},
   "outputs": [],
   "source": []
  }
 ],
 "metadata": {
  "kernelspec": {
   "display_name": "Python 3",
   "language": "python",
   "name": "python3"
  },
  "language_info": {
   "codemirror_mode": {
    "name": "ipython",
    "version": 3
   },
   "file_extension": ".py",
   "mimetype": "text/x-python",
   "name": "python",
   "nbconvert_exporter": "python",
   "pygments_lexer": "ipython3",
   "version": "3.7.5"
  }
 },
 "nbformat": 4,
 "nbformat_minor": 4
}
