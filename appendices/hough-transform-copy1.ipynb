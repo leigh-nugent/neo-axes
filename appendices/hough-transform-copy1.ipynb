{
 "cells": [
  {
   "cell_type": "code",
   "execution_count": null,
   "metadata": {},
   "outputs": [],
   "source": [
    "import cv2 as cv\n",
    "import numpy as np\n",
    "from matplotlib import pyplot as plt"
   ]
  },
  {
   "cell_type": "markdown",
   "metadata": {},
   "source": [
    "Thanks to https://stackoverflow.com/a/45560545"
   ]
  },
  {
   "cell_type": "code",
   "execution_count": null,
   "metadata": {},
   "outputs": [],
   "source": [
    "plt.rcParams['figure.figsize'] = [50, 50]"
   ]
  },
  {
   "cell_type": "code",
   "execution_count": null,
   "metadata": {},
   "outputs": [],
   "source": [
    "img = cv.imread(\"10078-form.jpg\")\n",
    "gray = cv.cvtColor(img,cv.COLOR_BGR2GRAY)\n",
    "denoised = cv.fastNlMeansDenoising(gray)\n",
    "\n",
    "opened_kernel = np.ones((9,9),np.uint8)\n",
    "\n",
    "opened = cv.morphologyEx(denoised, cv.MORPH_OPEN, opened_kernel)\n",
    "\n",
    "kernel = np.ones((3,3),np.uint8)\n",
    "its = 20\n",
    "\n",
    "eroded = cv.erode(opened, kernel, iterations = its)\n",
    "dilated = cv.dilate(eroded, kernel, iterations = its)\n",
    "\n",
    "#ret,threshed = cv.threshold(dilated,0,255,cv.THRESH_TRUNC+cv.THRESH_OTSU)\n",
    "\n",
    "plt.subplot(1, 2, 1)\n",
    "plt.imshow(opened)\n",
    "plt.subplot(1, 2, 2)\n",
    "plt.imshow(dilated)"
   ]
  },
  {
   "cell_type": "code",
   "execution_count": null,
   "metadata": {},
   "outputs": [],
   "source": [
    "low_threshold = 200\n",
    "high_threshold = 300\n",
    "edges = cv.Canny(dilated.copy(), low_threshold, high_threshold)\n",
    "\n",
    "\n",
    "plt.subplot(1, 2, 1)\n",
    "plt.imshow(dilated)\n",
    "plt.subplot(1, 2, 2)\n",
    "plt.imshow(edges)"
   ]
  },
  {
   "cell_type": "code",
   "execution_count": null,
   "metadata": {},
   "outputs": [],
   "source": [
    "rho = 1  # distance resolution in pixels of the Hough grid\n",
    "theta = (np.pi / 180) # angular resolution in radians of the Hough grid\n",
    "threshold = 10  # minimum number of votes (intersections in Hough grid cell)\n",
    "min_line_length = 900  # minimum number of pixels making up a line\n",
    "max_line_gap = 200  # maximum gap in pixels between connectable line segments\n",
    "line_image = np.copy(img) #* 0  # creating a blank to draw lines on\n",
    "\n",
    "# Run Hough on edge detected image\n",
    "# Output \"lines\" is an array containing endpoints of detected line segments\n",
    "lines = cv.HoughLinesP(edges, rho, theta, threshold, np.array([]), \n",
    "                        min_line_length, max_line_gap)\n",
    "\n",
    "for line in lines:\n",
    "    for x1,y1,x2,y2 in line:\n",
    "        cv.line(line_image,(x1,y1),(x2,y2),(0,255,0),1)\n",
    "plt.imshow(line_image)"
   ]
  },
  {
   "cell_type": "code",
   "execution_count": null,
   "metadata": {},
   "outputs": [],
   "source": [
    "lines"
   ]
  },
  {
   "cell_type": "code",
   "execution_count": null,
   "metadata": {},
   "outputs": [],
   "source": []
  }
 ],
 "metadata": {
  "kernelspec": {
   "display_name": "Python 3",
   "language": "python",
   "name": "python3"
  },
  "language_info": {
   "codemirror_mode": {
    "name": "ipython",
    "version": 3
   },
   "file_extension": ".py",
   "mimetype": "text/x-python",
   "name": "python",
   "nbconvert_exporter": "python",
   "pygments_lexer": "ipython3",
   "version": "3.7.5"
  }
 },
 "nbformat": 4,
 "nbformat_minor": 4
}
