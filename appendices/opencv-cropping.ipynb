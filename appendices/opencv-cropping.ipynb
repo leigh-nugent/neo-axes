{
 "cells": [
  {
   "cell_type": "code",
   "execution_count": null,
   "metadata": {},
   "outputs": [],
   "source": [
    "import os\n",
    "os.getcwd()"
   ]
  },
  {
   "cell_type": "code",
   "execution_count": null,
   "metadata": {},
   "outputs": [],
   "source": [
    "import cv2\n",
    "import matplotlib.pyplot as plt\n",
    "import numpy as np\n",
    "import pandas as pd\n",
    "from scipy import ndimage as ndi"
   ]
  },
  {
   "cell_type": "code",
   "execution_count": null,
   "metadata": {},
   "outputs": [],
   "source": [
    "segments = cv2.imread('../drawings/10031d.jpg')\n",
    "imgray = cv2.cvtColor(segments, cv2.COLOR_BGR2GRAY)\n",
    "plt.imshow(imgray, cmap=\"gray\");\n",
    "plt.rcParams[\"figure.figsize\"] = (10,10)\n",
    "plt.axis('off')"
   ]
  },
  {
   "cell_type": "code",
   "execution_count": null,
   "metadata": {},
   "outputs": [],
   "source": [
    "bilateral_filtered_image = cv2.bilateralFilter(imgray, 5, 500, 500)\n",
    "\n",
    "plt.imshow(bilateral_filtered_image, cmap=\"gray\");\n",
    "plt.rcParams[\"figure.figsize\"] = (10,10)\n",
    "plt.axis('off')"
   ]
  },
  {
   "cell_type": "code",
   "execution_count": null,
   "metadata": {},
   "outputs": [],
   "source": [
    "#trying out histogram equalization to improve contrast, doesn't work on all drawings\n",
    "\n",
    "hist,bins = np.histogram(imgray.flatten(),260,[0,50])\n",
    "cdf = hist.cumsum()\n",
    "cdf_normalized = cdf * hist.max()/ cdf.max()\n",
    "cdf_m = np.ma.masked_equal(cdf,0)\n",
    "cdf_m = (cdf_m - cdf_m.min())*255/(cdf_m.max()-cdf_m.min())\n",
    "cdf = np.ma.filled(cdf_m,0).astype('uint8')\n",
    "img_histeq = cdf[imgray]\n",
    "\n",
    "plt.imshow(img_histeq, cmap=\"gray\")\n",
    "plt.rcParams[\"figure.figsize\"] = (30,30)\n",
    "plt.axis('off')"
   ]
  },
  {
   "cell_type": "code",
   "execution_count": null,
   "metadata": {},
   "outputs": [],
   "source": [
    "#useful for original images with very faint lines, can adjust lower threshold\n",
    "edge_detected_image = cv2.Canny(imgray, 1, 100)\n",
    "\n",
    "plt.imshow(edge_detected_image, cmap=\"gray\")\n",
    "plt.rcParams[\"figure.figsize\"] = (10,10)\n",
    "plt.axis('off')"
   ]
  },
  {
   "cell_type": "code",
   "execution_count": null,
   "metadata": {},
   "outputs": [],
   "source": [
    "kernel = cv2.getStructuringElement(cv2.MORPH_ELLIPSE,(9,9))\n",
    "dilated = cv2.dilate(edge_detected_image, kernel)\n",
    "contours, hierarchy = cv2.findContours(dilated.copy(), cv2.RETR_EXTERNAL, cv2.CHAIN_APPROX_SIMPLE)\n",
    "outlines = segments.copy()\n",
    "\n",
    "contour_list = []\n",
    "for contour in contours:\n",
    "    approx = cv2.approxPolyDP(contour,0.01*cv2.arcLength(contour,True),True)\n",
    "    area = cv2.contourArea(contour)\n",
    "    if ((len(approx) > 4) & (area > 60) ):\n",
    "        contour_list.append(contour)\n",
    "        \n",
    "cv2.drawContours(outlines, contour_list, -1, (255,0,0))\n",
    "plt.imshow(outlines)\n",
    "plt.rcParams[\"figure.figsize\"] = (10,10)\n",
    "plt.axis('off')\n",
    "\n",
    "cv2.imwrite(\"../figure/10031-contours.jpg\", outlines)"
   ]
  },
  {
   "cell_type": "code",
   "execution_count": null,
   "metadata": {},
   "outputs": [],
   "source": [
    "for c in contours:\n",
    "    rect = cv2.boundingRect(c)\n",
    "    if rect[2] < 100 or rect[3] < 100: continue\n",
    "    print(cv2.contourArea(c))\n",
    "    x,y,w,h = rect\n",
    "    cv2.rectangle(outlines,(x,y),(x+w,y+h),(0,255,0),2)\n",
    "    #cv2.putText(segments,'axes detected',(x+w+10,y+h),0,0.3,(0,255,0))\n",
    "plt.imshow(outlines)\n",
    "plt.rcParams[\"figure.figsize\"] = (30,30)\n",
    "plt.axis('off')\n",
    "\n",
    "cv2.imwrite(\"../figure/10031-boxes.jpg\", outlines)"
   ]
  },
  {
   "cell_type": "code",
   "execution_count": null,
   "metadata": {},
   "outputs": [],
   "source": [
    "boxes = []\n",
    "for c in contours:\n",
    "    rect = cv2.boundingRect(c)\n",
    "    if rect[2] < 100 or rect[3] < 100: continue\n",
    "    x,y,w,h = rect\n",
    "    cv2.rectangle(outlines,(x,y),(x+w,y+h),(0,255,0),2)\n",
    "    list(rect)\n",
    "    boxes.append(rect)\n",
    "    \n",
    "num = 0\n",
    "for box in boxes:\n",
    "    x,y,w,h = box\n",
    "    ROI = outlines[y:y+h, x:x+w]\n",
    "    \n",
    "plt.imshow(ROI)\n",
    "plt.rcParams[\"figure.figsize\"] = (10,10)\n",
    "plt.axis('off')"
   ]
  },
  {
   "cell_type": "code",
   "execution_count": null,
   "metadata": {},
   "outputs": [],
   "source": [
    "#get list of boxes\n",
    "boxes = []\n",
    "contour_areas = []\n",
    "for c in contours:\n",
    "    rect = cv2.boundingRect(c)\n",
    "    if rect[2] < 100 or rect[3] < 100: continue\n",
    "    x,y,w,h = rect\n",
    "    list(rect)\n",
    "    boxes.append(rect)\n",
    "    area = cv2.contourArea(c)\n",
    "    contour_areas.append(area)"
   ]
  },
  {
   "cell_type": "code",
   "execution_count": null,
   "metadata": {},
   "outputs": [],
   "source": [
    "contour_areas"
   ]
  },
  {
   "cell_type": "code",
   "execution_count": null,
   "metadata": {},
   "outputs": [],
   "source": [
    "type(boxes)"
   ]
  },
  {
   "cell_type": "code",
   "execution_count": null,
   "metadata": {},
   "outputs": [],
   "source": [
    "first = boxes[0]\n",
    "second = boxes[1]\n",
    "third = boxes[2]"
   ]
  },
  {
   "cell_type": "code",
   "execution_count": null,
   "metadata": {},
   "outputs": [],
   "source": [
    "plan = imgray[first[1]:first[1]+first[3],\n",
    "                  first[0]:first[0]+first[2]]\n",
    "\n",
    "profile = imgray[second[1]:second[1]+second[3],\n",
    "                  second[0]:second[0]+second[2]]\n",
    "\n",
    "top = imgray[third[1]:third[1]+third[3],\n",
    "                  third[0]:third[0]+third[2]]"
   ]
  },
  {
   "cell_type": "code",
   "execution_count": null,
   "metadata": {},
   "outputs": [],
   "source": [
    "thresh, prof_thresh = cv2.threshold(profile, 250, 255, cv2.THRESH_BINARY_INV);\n",
    "\n",
    "profile_ff = prof_thresh.copy()\n",
    "\n",
    "h, w = profile.shape[:2]\n",
    "mask = np.zeros((h+2, w+2), np.uint8)\n",
    "\n",
    "cv2.floodFill(profile_ff, mask, (0,0), 255);\n",
    "\n",
    "profile_ff_inv = cv2.bitwise_not(profile_ff)\n",
    "\n",
    "profile_filled = prof_thresh | profile_ff_inv"
   ]
  },
  {
   "cell_type": "code",
   "execution_count": null,
   "metadata": {},
   "outputs": [],
   "source": [
    "plt.imshow(profile_filled, cmap=\"gray\")\n",
    "plt.axis(\"off\")"
   ]
  },
  {
   "cell_type": "code",
   "execution_count": null,
   "metadata": {},
   "outputs": [],
   "source": [
    "thresh, plan_thresh = cv2.threshold(plan, 250, 255, cv2.THRESH_BINARY_INV);\n",
    "\n",
    "plan_ff = plan_thresh.copy()\n",
    "\n",
    "h, w = plan.shape[:2]\n",
    "mask = np.zeros((h+2, w+2), np.uint8)\n",
    "\n",
    "cv2.floodFill(plan_ff, mask, (0,0), 255);\n",
    "\n",
    "plan_ff_inv = cv2.bitwise_not(plan_ff)\n",
    "\n",
    "plan_filled = plan_thresh | plan_ff_inv\n",
    "\n",
    "plt.imshow(plan_filled, cmap=\"gray\")\n",
    "plt.rcParams[\"figure.figsize\"] = (5,5)\n",
    "plt.axis(\"off\")"
   ]
  },
  {
   "cell_type": "code",
   "execution_count": null,
   "metadata": {},
   "outputs": [],
   "source": [
    "thresh, top_thresh = cv2.threshold(top, 250, 255, cv2.THRESH_BINARY_INV);\n",
    "\n",
    "top_ff = top_thresh.copy()\n",
    "\n",
    "h, w = top.shape[:2]\n",
    "mask = np.zeros((h+2, w+2), np.uint8)\n",
    "\n",
    "cv2.floodFill(top_ff, mask, (0,0), 255);\n",
    "\n",
    "top_ff_inv = cv2.bitwise_not(top_ff)\n",
    "\n",
    "top_filled = top_thresh | top_ff_inv\n",
    "\n",
    "\n",
    "plt.imshow(top_filled, cmap=\"gray\")\n",
    "plt.rcParams[\"figure.figsize\"] = (10,10)\n",
    "plt.axis(\"off\")"
   ]
  },
  {
   "cell_type": "markdown",
   "metadata": {},
   "source": [
    "https://stackoverflow.com/questions/10262600/how-to-detect-region-of-large-of-white-pixels-using-opencv"
   ]
  },
  {
   "cell_type": "code",
   "execution_count": null,
   "metadata": {},
   "outputs": [],
   "source": [
    "cv2.imwrite(\"10031-profile.jpg\", profile)"
   ]
  }
 ],
 "metadata": {
  "kernelspec": {
   "display_name": "Python 3",
   "language": "python",
   "name": "python3"
  },
  "language_info": {
   "codemirror_mode": {
    "name": "ipython",
    "version": 3
   },
   "file_extension": ".py",
   "mimetype": "text/x-python",
   "name": "python",
   "nbconvert_exporter": "python",
   "pygments_lexer": "ipython3",
   "version": "3.7.5"
  }
 },
 "nbformat": 4,
 "nbformat_minor": 4
}
